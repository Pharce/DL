{
 "cells": [
  {
   "cell_type": "code",
   "execution_count": 1,
   "metadata": {},
   "outputs": [
    {
     "name": "stdout",
     "output_type": "stream",
     "text": [
      "['.DS_Store', 'sales_train.csv', 'shops.csv', 'test.csv', 'item_categories.csv', 'items.csv', 'sample_submission.csv']\n"
     ]
    }
   ],
   "source": [
    "import numpy as np # linear algebra\n",
    "import pandas as pd # data processing, CSV file I/O (e.g. pd.read_csv)\n",
    "\n",
    "# Input data files are available in the \"../input/\" directory.\n",
    "# For example, running this (by clicking run or pressing Shift+Enter) will list the files in the input directory\n",
    "\n",
    "import os\n",
    "print(os.listdir(\"./data\"))\n",
    "\n",
    "items_df = pd.read_csv('./data/items.csv')\n",
    "shops_df = pd.read_csv('./data/shops.csv')\n",
    "\n",
    "icats_df = pd.read_csv('./data/item_categories.csv')\n",
    "train_df = pd.read_csv('./data/sales_train.csv', header=0, sep=',', quotechar='\"')\n",
    "smpsb_df = pd.read_csv('./data/sample_submission.csv', header=0, sep=',', quotechar='\"')\n",
    "test_df  = pd.read_csv('./data/test.csv', header=0, sep=',', quotechar='\"')"
   ]
  },
  {
   "cell_type": "code",
   "execution_count": 6,
   "metadata": {},
   "outputs": [
    {
     "data": {
      "text/html": [
       "<div>\n",
       "<style scoped>\n",
       "    .dataframe tbody tr th:only-of-type {\n",
       "        vertical-align: middle;\n",
       "    }\n",
       "\n",
       "    .dataframe tbody tr th {\n",
       "        vertical-align: top;\n",
       "    }\n",
       "\n",
       "    .dataframe thead th {\n",
       "        text-align: right;\n",
       "    }\n",
       "</style>\n",
       "<table border=\"1\" class=\"dataframe\">\n",
       "  <thead>\n",
       "    <tr style=\"text-align: right;\">\n",
       "      <th></th>\n",
       "      <th>item_category_name</th>\n",
       "      <th>item_category_id</th>\n",
       "      <th>cats</th>\n",
       "    </tr>\n",
       "  </thead>\n",
       "  <tbody>\n",
       "    <tr>\n",
       "      <th>0</th>\n",
       "      <td>PC - Гарнитуры/Наушники</td>\n",
       "      <td>0</td>\n",
       "      <td>PC - Гарнитуры/Наушники</td>\n",
       "    </tr>\n",
       "    <tr>\n",
       "      <th>1</th>\n",
       "      <td>Аксессуары - PS2</td>\n",
       "      <td>1</td>\n",
       "      <td>Access</td>\n",
       "    </tr>\n",
       "    <tr>\n",
       "      <th>2</th>\n",
       "      <td>Аксессуары - PS3</td>\n",
       "      <td>2</td>\n",
       "      <td>Access</td>\n",
       "    </tr>\n",
       "    <tr>\n",
       "      <th>3</th>\n",
       "      <td>Аксессуары - PS4</td>\n",
       "      <td>3</td>\n",
       "      <td>Access</td>\n",
       "    </tr>\n",
       "    <tr>\n",
       "      <th>4</th>\n",
       "      <td>Аксессуары - PSP</td>\n",
       "      <td>4</td>\n",
       "      <td>Access</td>\n",
       "    </tr>\n",
       "  </tbody>\n",
       "</table>\n",
       "</div>"
      ],
      "text/plain": [
       "        item_category_name  item_category_id                     cats\n",
       "0  PC - Гарнитуры/Наушники                 0  PC - Гарнитуры/Наушники\n",
       "1         Аксессуары - PS2                 1                   Access\n",
       "2         Аксессуары - PS3                 2                   Access\n",
       "3         Аксессуары - PS4                 3                   Access\n",
       "4         Аксессуары - PSP                 4                   Access"
      ]
     },
     "execution_count": 6,
     "metadata": {},
     "output_type": "execute_result"
    }
   ],
   "source": [
    "l = list(icats_df.item_category_name)\n",
    "l_cat = l\n",
    "\n",
    "for ind in range(1,8):\n",
    "    l_cat[ind] = 'Access'\n",
    "\n",
    "for ind in range(10,18):\n",
    "    l_cat[ind] = 'Consoles'\n",
    "\n",
    "for ind in range(18,25):\n",
    "    l_cat[ind] = 'Consoles Games'\n",
    "\n",
    "for ind in range(26,28):\n",
    "    l_cat[ind] = 'phone games'\n",
    "\n",
    "for ind in range(28,32):\n",
    "    l_cat[ind] = 'CD games'\n",
    "\n",
    "for ind in range(32,37):\n",
    "    l_cat[ind] = 'Card'\n",
    "\n",
    "for ind in range(37,43):\n",
    "    l_cat[ind] = 'Movie'\n",
    "\n",
    "for ind in range(43,55):\n",
    "    l_cat[ind] = 'Books'\n",
    "\n",
    "for ind in range(55,61):\n",
    "    l_cat[ind] = 'Music'\n",
    "\n",
    "for ind in range(61,73):\n",
    "    l_cat[ind] = 'Gifts'\n",
    "\n",
    "for ind in range(73,79):\n",
    "    l_cat[ind] = 'Soft'\n",
    "\n",
    "\n",
    "icats_df['cats'] = l_cat\n",
    "icats_df.head()"
   ]
  },
  {
   "cell_type": "code",
   "execution_count": 7,
   "metadata": {},
   "outputs": [],
   "source": [
    "# items to the list\n",
    "items_df = pd.merge(items_df, icats_df, on=['item_category_id'], how='left')\n",
    "items_df = items_df[['item_id', 'cats']]"
   ]
  },
  {
   "cell_type": "code",
   "execution_count": 8,
   "metadata": {},
   "outputs": [],
   "source": [
    "# Remove outliers\n",
    "train_df = train_df[train_df['item_price'] < 100000]\n",
    "train_df = train_df[train_df['item_cnt_day'] < 1000]"
   ]
  },
  {
   "cell_type": "code",
   "execution_count": 9,
   "metadata": {},
   "outputs": [],
   "source": [
    "from itertools import product\n",
    "index_cols = ['shop_id', 'item_id', 'date_block_num']\n",
    "grid = []\n",
    "for block_num in train_df['date_block_num'].unique():\n",
    "    cur_shops = train_df.loc[train_df['date_block_num'] == block_num, 'shop_id'].unique()\n",
    "    cur_items = train_df.loc[train_df['date_block_num'] == block_num, 'item_id'].unique()\n",
    "    grid.append(np.array(list(product(*[cur_shops, cur_items, [block_num]])),dtype='int32'))\n",
    "grid = pd.DataFrame(np.vstack(grid), columns = index_cols,dtype=np.int32)"
   ]
  },
  {
   "cell_type": "code",
   "execution_count": 10,
   "metadata": {},
   "outputs": [],
   "source": [
    "train_df = train_df.groupby(['date_block_num','shop_id','item_id']).agg(\n",
    "    {'item_cnt_day': np.sum, 'item_price': np.mean}).reset_index()"
   ]
  },
  {
   "cell_type": "code",
   "execution_count": 11,
   "metadata": {},
   "outputs": [],
   "source": [
    "train_df.rename({'item_cnt_day': 'item_cnt_month'}, axis='columns', inplace=True)\n",
    "train_df = pd.merge(grid, train_df, on=index_cols, how='left')\n"
   ]
  },
  {
   "cell_type": "code",
   "execution_count": 12,
   "metadata": {},
   "outputs": [],
   "source": [
    "train_df = pd.merge(train_df, items_df, on=['item_id'], how='left')\n",
    "test_df = pd.merge(test_df, items_df, on=['item_id'], how='left')"
   ]
  },
  {
   "cell_type": "code",
   "execution_count": 13,
   "metadata": {},
   "outputs": [],
   "source": [
    "# Mean Encoding\n",
    "\n",
    "for type_ids in [['item_id'], ['shop_id'], ['cats'], ['item_id', 'shop_id']]:\n",
    "    for column_id in ['item_price', 'item_cnt_month']:\n",
    "        mean_df = train_df[type_ids + [column_id]].groupby(type_ids).agg(np.mean).reset_index()\n",
    "        mean_df.rename(\n",
    "            {column_id: \"mean_of_\"+column_id+\"_groupby_\"+\"_\".join(type_ids)},\n",
    "            axis='columns', inplace=True\n",
    "        )\n",
    "        \n",
    "        train_df = pd.merge(train_df, mean_df, on=type_ids, how='left')\n",
    "        test_df = pd.merge(test_df, mean_df, on=type_ids, how='left')"
   ]
  },
  {
   "cell_type": "code",
   "execution_count": 14,
   "metadata": {},
   "outputs": [],
   "source": [
    "# Fill NA\n",
    "test_df['mean_of_item_price_groupby_item_id'] = test_df['mean_of_item_price_groupby_item_id'].fillna(test_df['mean_of_item_price_groupby_cats'])\n",
    "test_df['mean_of_item_cnt_month_groupby_item_id'] = test_df['mean_of_item_cnt_month_groupby_item_id'].fillna(test_df['mean_of_item_cnt_month_groupby_cats'])\n",
    "test_df['mean_of_item_price_groupby_item_id_shop_id'] = test_df['mean_of_item_price_groupby_item_id_shop_id'].fillna(test_df['mean_of_item_price_groupby_item_id'])\n",
    "test_df['mean_of_item_cnt_month_groupby_item_id_shop_id'] = test_df['mean_of_item_cnt_month_groupby_item_id_shop_id'].fillna(test_df['mean_of_item_cnt_month_groupby_item_id'])"
   ]
  },
  {
   "cell_type": "code",
   "execution_count": 15,
   "metadata": {},
   "outputs": [],
   "source": [
    "train_df['mean_of_item_price_groupby_item_id_shop_id'] = train_df['mean_of_item_price_groupby_item_id_shop_id'].fillna(train_df['mean_of_item_price_groupby_item_id'])\n",
    "train_df['mean_of_item_cnt_month_groupby_item_id_shop_id'] = train_df['mean_of_item_cnt_month_groupby_item_id_shop_id'].fillna(train_df['mean_of_item_cnt_month_groupby_item_id'])"
   ]
  },
  {
   "cell_type": "code",
   "execution_count": 16,
   "metadata": {},
   "outputs": [],
   "source": [
    "for df in train_df, test_df:\n",
    "    for feat in df.columns[4:]:\n",
    "        if 'item_cnt' in feat:\n",
    "            df[feat]=df[feat].fillna(0)\n",
    "        elif 'item_price' in feat:\n",
    "            df[feat]=df[feat].fillna(df[feat].median())"
   ]
  },
  {
   "cell_type": "code",
   "execution_count": 17,
   "metadata": {},
   "outputs": [],
   "source": [
    "train_df['item_cnt_month'] = train_df['item_cnt_month'].fillna(0)\n"
   ]
  },
  {
   "cell_type": "code",
   "execution_count": 18,
   "metadata": {},
   "outputs": [],
   "source": [
    "train_df_temp = train_df.copy()\n",
    "train_df = train_df[train_df['date_block_num']>=12]"
   ]
  },
  {
   "cell_type": "code",
   "execution_count": 19,
   "metadata": {},
   "outputs": [],
   "source": [
    "features = ['item_cnt_month', 'item_price', 'mean_of_item_price_groupby_item_id',\n",
    "       'mean_of_item_cnt_month_groupby_item_id',\n",
    "       'mean_of_item_price_groupby_shop_id',\n",
    "       'mean_of_item_cnt_month_groupby_shop_id',\n",
    "       'mean_of_item_price_groupby_cats',\n",
    "       'mean_of_item_cnt_month_groupby_cats',\n",
    "       'mean_of_item_price_groupby_item_id_shop_id',\n",
    "       'mean_of_item_cnt_month_groupby_item_id_shop_id']"
   ]
  },
  {
   "cell_type": "code",
   "execution_count": 20,
   "metadata": {},
   "outputs": [],
   "source": [
    "def add_historical_data(df):\n",
    "    for diff in (1, 2, 3, 4, 6, 12):\n",
    "        train_df_copy = train_df_temp.copy()\n",
    "        train_df_copy['date_block_num'] += diff\n",
    "        train_df_copy = train_df_copy[['date_block_num', 'item_id', 'shop_id'] + features]\n",
    "        train_df_copy.rename({\n",
    "            feat: feat+\"_\"+str(diff)+'_month_ago' for feat in features\n",
    "        }, axis=1, inplace=True)\n",
    "        df = pd.merge(df, train_df_copy, on=['shop_id', 'item_id', 'date_block_num'], how='left')\n",
    "    return df"
   ]
  },
  {
   "cell_type": "code",
   "execution_count": 21,
   "metadata": {},
   "outputs": [],
   "source": [
    "test_df['date_block_num'] = 34\n",
    "train_df = add_historical_data(train_df)\n",
    "test_df = add_historical_data(test_df)\n",
    "test_df.drop('date_block_num', axis=1, inplace=True)"
   ]
  },
  {
   "cell_type": "code",
   "execution_count": 22,
   "metadata": {},
   "outputs": [],
   "source": [
    "for df in train_df, test_df:\n",
    "    for feat in train_df.columns[6:]:\n",
    "        if 'item_cnt' in feat:\n",
    "            df[feat]=df[feat].fillna(0)\n",
    "        elif 'item_price' in feat:\n",
    "            df[feat]=df[feat].fillna(df[feat].median())"
   ]
  },
  {
   "cell_type": "code",
   "execution_count": 23,
   "metadata": {},
   "outputs": [],
   "source": [
    "columns = {\n",
    "    'diff_between_item_shop_and_item': ('mean_of_item_price_groupby_item_id_shop_id', 'mean_of_item_price_groupby_item_id'),\n",
    "    'diff_between_item_and_category': ('mean_of_item_price_groupby_item_id', 'mean_of_item_price_groupby_cats')\n",
    "}\n",
    "for new_feature, (col1, col2) in columns.items():\n",
    "    for df in (train_df, test_df):\n",
    "        df[new_feature] = df[col1] - df[col2]"
   ]
  },
  {
   "cell_type": "code",
   "execution_count": 24,
   "metadata": {},
   "outputs": [],
   "source": [
    "train_df['item_cnt_month'] = train_df['item_cnt_month'].clip(0, 20)\n"
   ]
  },
  {
   "cell_type": "code",
   "execution_count": 25,
   "metadata": {},
   "outputs": [],
   "source": [
    "training_set = train_df[train_df['date_block_num']<33]\n",
    "validation_set = train_df[train_df['date_block_num']==33].reset_index()\n"
   ]
  },
  {
   "cell_type": "code",
   "execution_count": null,
   "metadata": {},
   "outputs": [],
   "source": [
    "features = train_df.columns[6:].tolist()\n",
    "\n",
    "train_df[features].to_csv('./data/X_train_all.csv', index=False)\n",
    "train_df['item_cnt_month'].to_csv('./data/y_train_all.csv', index=False)\n",
    "X_train = training_set[features]\n",
    "X_train.to_csv('./data/X_train.csv', index=False)\n",
    "y_train = training_set['item_cnt_month']\n",
    "y_train.to_csv('./data/y_train.csv', index=False)\n",
    "X_validation = validation_set[features]\n",
    "X_validation.to_csv('./data/X_validation.csv', index=False)\n",
    "y_validation = validation_set['item_cnt_month']\n",
    "y_validation.to_csv('./data/y_validation.csv', index=False)\n",
    "test_df = test_df[['ID'] + features]\n",
    "test_df.to_csv('./data/X_test.csv', index=False)"
   ]
  },
  {
   "cell_type": "code",
   "execution_count": null,
   "metadata": {},
   "outputs": [],
   "source": [
    "import xgboost as xgb\n",
    "params = {\n",
    "        'eta': 0.08, #best 0.08\n",
    "        'max_depth': 7,\n",
    "        'objective': 'reg:linear',\n",
    "        'eval_metric': 'rmse',\n",
    "        'seed': 3,\n",
    "        'gamma':1,\n",
    "        'silent': True\n",
    "    }"
   ]
  },
  {
   "cell_type": "code",
   "execution_count": null,
   "metadata": {},
   "outputs": [],
   "source": [
    "X_test = test_df[features]"
   ]
  },
  {
   "cell_type": "code",
   "execution_count": null,
   "metadata": {},
   "outputs": [],
   "source": [
    "watchlist = [\n",
    "    (xgb.DMatrix(X_train, y_train), 'train'),\n",
    "    (xgb.DMatrix(X_validation, y_validation), 'validation')\n",
    "]\n",
    "model = xgb.train(params, xgb.DMatrix(X_train, y_train), 500,  watchlist, maximize=False, verbose_eval=5, early_stopping_rounds=50)"
   ]
  },
  {
   "cell_type": "code",
   "execution_count": null,
   "metadata": {},
   "outputs": [],
   "source": [
    "pred = model.predict(xgb.DMatrix(X_test), ntree_limit=model.best_ntree_limit)\n",
    "test_df['item_cnt_month'] = pred.clip(0, 40)\n",
    "test_df[['ID', 'item_cnt_month']].to_csv('xgboost_submission.csv', index=False)"
   ]
  },
  {
   "cell_type": "code",
   "execution_count": null,
   "metadata": {},
   "outputs": [],
   "source": []
  },
  {
   "cell_type": "code",
   "execution_count": null,
   "metadata": {},
   "outputs": [],
   "source": []
  }
 ],
 "metadata": {
  "kernelspec": {
   "display_name": "Python 2",
   "language": "python",
   "name": "python2"
  },
  "language_info": {
   "codemirror_mode": {
    "name": "ipython",
    "version": 2
   },
   "file_extension": ".py",
   "mimetype": "text/x-python",
   "name": "python",
   "nbconvert_exporter": "python",
   "pygments_lexer": "ipython2",
   "version": "2.7.13"
  }
 },
 "nbformat": 4,
 "nbformat_minor": 2
}
